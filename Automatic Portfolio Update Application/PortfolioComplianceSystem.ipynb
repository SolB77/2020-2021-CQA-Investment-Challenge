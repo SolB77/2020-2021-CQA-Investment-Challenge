{
 "cells": [
  {
   "source": [
    "#Imports\n",
    "import pandas as pd\n",
    "import numpy as np\n",
    "from datetime import datetime\n",
    "import os\n",
    "import glob\n",
    "from StockTrakDataReader import portfolio_value\n",
    "import config"
   ],
   "cell_type": "code",
   "metadata": {},
   "execution_count": 2,
   "outputs": [
    {
     "output_type": "stream",
     "name": "stdout",
     "text": [
      "$941,588.48\n"
     ]
    }
   ]
  },
  {
   "cell_type": "code",
   "execution_count": 99,
   "metadata": {},
   "outputs": [
    {
     "output_type": "stream",
     "name": "stdout",
     "text": [
      "11/28/2020, 8:14 PM\n"
     ]
    }
   ],
   "source": [
    "#Get current date/time\n",
    "now = datetime.now()\n",
    "current_time = now.strftime(\"%m/%d/%Y, %-I:%M %p\")\n",
    "print(current_time)"
   ]
  },
  {
   "cell_type": "code",
   "execution_count": 100,
   "metadata": {},
   "outputs": [
    {
     "output_type": "stream",
     "name": "stdout",
     "text": [
      "941588.48\n"
     ]
    }
   ],
   "source": [
    "#Turn portfolio value in integer for calculations\n",
    "portfolio_value = portfolio_value.replace(',','')\n",
    "totalportfoliovalue = float(portfolio_value[1:])\n",
    "print(totalportfoliovalue)"
   ]
  },
  {
   "cell_type": "code",
   "execution_count": 101,
   "metadata": {},
   "outputs": [],
   "source": [
    "#Create message/update\n",
    "portfolioupdate = 'Dutchmen Alpha Fund Portfolio Update\\n\\n' + current_time + '\\n\\n'"
   ]
  },
  {
   "cell_type": "code",
   "execution_count": 102,
   "metadata": {},
   "outputs": [
    {
     "output_type": "stream",
     "name": "stdout",
     "text": [
      "  Symbol                  Description  Quantity Currency  LastPrice  \\\n0    AAL  American Airlines Group Inc      -300      USD      14.98   \n1   AAPL                   Apple Inc.      -368      USD     116.59   \n2   ABBV                   Abbvie Inc        59      USD     104.89   \n3   ADBE   Adobe Systems Incorporated      -100      USD     477.03   \n4    ADT                      ADT Inc       759      USD       8.08   \n\n   PricePaid  DayChange ProfitLoss  MarketValue  ProfitLossPercentage  \n0      14.92       0.04     -18.00      4494.00                 -0.40  \n1     107.99       0.56  -3,164.80     42905.12                 -7.96  \n2      86.36       0.69   1,093.27      6188.51                 21.46  \n3     460.43       6.95  -1,660.00     47703.00                 -3.61  \n4       6.65       0.07   1,085.37      6132.72                 21.50  \n"
     ]
    }
   ],
   "source": [
    "#Load in portfolio and view head\n",
    "datafolder = glob.iglob(config.portfoliodatafolder)\n",
    "latestportfolio = max(datafolder, key=os.path.getctime)\n",
    "portfolio = pd.read_csv(latestportfolio, index_col=False)\n",
    "print(portfolio.head())\n"
   ]
  },
  {
   "cell_type": "code",
   "execution_count": 103,
   "metadata": {},
   "outputs": [],
   "source": [
    "#Identify short tickets\n",
    "shorttickers = portfolio[portfolio['Quantity']<0]"
   ]
  },
  {
   "cell_type": "code",
   "execution_count": 104,
   "metadata": {},
   "outputs": [],
   "source": [
    "#Identify long tickers\n",
    "longtickers = portfolio[portfolio['Quantity']>0]"
   ]
  },
  {
   "cell_type": "code",
   "execution_count": 105,
   "metadata": {},
   "outputs": [],
   "source": [
    "#Identify stocks purchased below the minimum\n",
    "stockspurchasedbelowmin = portfolio[(portfolio['PricePaid']<5) & (portfolio['Quantity']>0)]"
   ]
  },
  {
   "cell_type": "code",
   "execution_count": 106,
   "metadata": {},
   "outputs": [],
   "source": [
    "#Identify stocks shorted below the minimum\n",
    "stocksshortedbelowmin = portfolio[(portfolio['PricePaid']<5) & (portfolio['Quantity']<0)]"
   ]
  },
  {
   "cell_type": "code",
   "execution_count": 107,
   "metadata": {},
   "outputs": [],
   "source": [
    "#Add the total portfolio value to the update\n",
    "portfolioupdate += ('The total portfolio value is currently: $' + str(round(totalportfoliovalue,2)) + '\\n\\n')"
   ]
  },
  {
   "cell_type": "code",
   "execution_count": 108,
   "metadata": {},
   "outputs": [],
   "source": [
    "#Calculate position weights\n",
    "portfolio['positionweight'] = portfolio['MarketValue']/totalportfoliovalue"
   ]
  },
  {
   "cell_type": "code",
   "execution_count": 109,
   "metadata": {},
   "outputs": [
    {
     "output_type": "stream",
     "name": "stdout",
     "text": [
      "   Symbol                 Description  Quantity Currency  LastPrice  \\\n3    ADBE  Adobe Systems Incorporated      -100      USD     477.03   \n6    AMZN            Amazon.com Inc.        -15      USD    3195.34   \n80   NFLX               Netflix Inc.        -97      USD     491.36   \n83   NVDA          NVIDIA Corporation       -90      USD     530.45   \n\n      PricePaid  DayChange ProfitLoss  MarketValue  ProfitLossPercentage  \\\n3    460.430000       6.95  -1,660.00     47703.00                 -3.61   \n6   3037.500000      10.27  -2,367.60     47930.10                 -5.20   \n80   476.295258       6.36  -1,461.28     47661.92                 -3.16   \n83   510.301111       1.06  -1,813.40     47740.50                 -3.95   \n\n    positionweight  \n3         0.050662  \n6         0.050903  \n80        0.050619  \n83        0.050702  \n"
     ]
    }
   ],
   "source": [
    "#Identify overweight stocks\n",
    "overweightstocks = portfolio[portfolio['positionweight']>=.05]\n",
    "verycloseoverweightstocks = portfolio[(portfolio['positionweight']>=.045) & (portfolio['positionweight']<.05)]\n",
    "closeoverweightstocks = portfolio[(portfolio['positionweight']>=.04) & (portfolio['positionweight']<.045)]\n",
    "print(overweightstocks)"
   ]
  },
  {
   "cell_type": "code",
   "execution_count": 110,
   "metadata": {},
   "outputs": [],
   "source": [
    "#Calculate dollar neutrality rate\n",
    "dollarneutralityratio = longtickers['MarketValue'].sum()/shorttickers['MarketValue'].sum()"
   ]
  },
  {
   "cell_type": "code",
   "execution_count": 111,
   "metadata": {},
   "outputs": [],
   "source": [
    "#Add short tickers count to update\n",
    "if len(shorttickers.index) < 40:\n",
    "    portfolioupdate += ('There are not enough short tickers in the portfolio. There are only ' + str(len(shorttickers)) + ':\\n\\n' + str(shorttickers[['Symbol','Quantity']])+'\\n\\n')\n",
    "else:\n",
    "    portfolioupdate += ('The number of short tickers is good!. There are: ' + str(len(shorttickers)) + '\\n\\n')"
   ]
  },
  {
   "cell_type": "code",
   "execution_count": 112,
   "metadata": {},
   "outputs": [],
   "source": [
    "#Add long tickers count to update\n",
    "if len(longtickers.index) < 40:\n",
    "    portfolioupdate += ('There are not enough long tickers in the portfolio. There are only ' + str(len(longtickers)) + ':\\n\\n'+str(longtickers[['Symbol','Quantity']])+'\\n\\n')\n",
    "else:\n",
    "    portfolioupdate += ('The number of long tickers is good!. There are: ' + str(len(longtickers))+ '\\n\\n')"
   ]
  },
  {
   "cell_type": "code",
   "execution_count": 113,
   "metadata": {},
   "outputs": [],
   "source": [
    "#Add stocks purchased below min to update\n",
    "if len(stockspurchasedbelowmin.index)>0:\n",
    "    portfolioupdate += ('There are stocks that were purchased below the minimum price for buying of $5:\\n\\n'+str(stockspurchasedbelowmin[['Symbol','Description','PricePaid']])+'\\n\\n')\n",
    "else:\n",
    "    portfolioupdate += ('No holdings in the portfolio were purchased below the minimum of $5\\n\\n')"
   ]
  },
  {
   "cell_type": "code",
   "execution_count": 114,
   "metadata": {},
   "outputs": [],
   "source": [
    "#Add stocks shorted below min to update\n",
    "if len(stocksshortedbelowmin.index)>0:\n",
    "    portfolioupdate += ('There are stocks that were shorted below the minimum price for shorting of $5:\\n\\n'+str(stocksshortedbelowmin[['Symbol','Description','PricePaid']])+'\\n\\n')\n",
    "else:\n",
    "    portfolioupdate += ('No holdings in the portfolio were shorted below the minimum of $5\\n\\n')"
   ]
  },
  {
   "cell_type": "code",
   "execution_count": 115,
   "metadata": {},
   "outputs": [],
   "source": [
    "#Add dollar neutrality ratio to update\n",
    "if dollarneutralityratio < .9 or dollarneutralityratio > 1.1:\n",
    "    portfolioupdate += ('The portfolio dollar neutrality ratio is out of balance!. Current ratio is: '+str(round(dollarneutralityratio,4))+'\\n\\n')\n",
    "else:\n",
    "    portfolioupdate += ('The portfolio dollar neutrality ratio is in balance!. Current ratio is: ' + str(round(dollarneutralityratio,4))+'\\n\\n')"
   ]
  },
  {
   "cell_type": "code",
   "execution_count": 116,
   "metadata": {
    "tags": []
   },
   "outputs": [],
   "source": [
    "#Distribution of porfolio weights\n",
    "welldistributed = True\n",
    "if len(overweightstocks.index) > 0:\n",
    "    portfolioupdate += ('There are overweight stocks with weights over the max of 5%:\\n\\n'+str(overweightstocks[['Symbol','positionweight']])+\"\\n\\n\")\n",
    "    welldistributed = False\n",
    "if len(verycloseoverweightstocks.index) > 0:\n",
    "    portfolioupdate += ('There are stocks very close to overweight with weights over 4.5%:\\n\\n'+str(verycloseoverweightstocks[['Symbol','positionweight']])+\"\\n\\n\")\n",
    "    welldistributed = False\n",
    "if len(closeoverweightstocks.index) > 0:\n",
    "    portfolioupdate += ('There are stocks close to overweight with weights over 4%. Keep an eye on them:\\n\\n'+str(closeoverweightstocks[['Symbol','positionweight']])+\"\\n\\n\")\n",
    "    welldistributed = False\n",
    "if welldistributed:\n",
    "    portfolioupdate += ('Portfolio weights are well-distributed!')\n"
   ]
  },
  {
   "cell_type": "code",
   "execution_count": 117,
   "metadata": {},
   "outputs": [
    {
     "output_type": "stream",
     "name": "stdout",
     "text": [
      "Dutchmen Alpha Fund Portfolio Update\n\n11/28/2020, 8:14 PM\n\nThe total portfolio value is currently: $941588.48\n\nThe number of short tickers is good!. There are: 52\n\nThe number of long tickers is good!. There are: 63\n\nNo holdings in the portfolio were purchased below the minimum of $5\n\nNo holdings in the portfolio were shorted below the minimum of $5\n\nThe portfolio dollar neutrality ratio is in balance!. Current ratio is: 0.9955\n\nThere are overweight stocks with weights over the max of 5%:\n\n   Symbol  positionweight\n3    ADBE        0.050662\n6    AMZN        0.050903\n80   NFLX        0.050619\n83   NVDA        0.050702\n\nThere are stocks very close to overweight with weights over 4.5%:\n\n    Symbol  positionweight\n1     AAPL        0.045567\n3     ADBE        0.050662\n6     AMZN        0.050903\n18     CAT        0.049646\n38      FB        0.048682\n47    GOOG        0.049515\n48   GOOGL        0.047447\n62    LULU        0.048507\n63    MASI        0.048364\n76    MSFT        0.045488\n80    NFLX        0.050619\n81     NIO        0.048747\n83    NVDA        0.050702\n103   TSLA        0.049768\n109   VIRT        0.048620\n\nThere are stocks close to overweight with weights over 4%. Keep an eye on them:\n\n    Symbol  positionweight\n1     AAPL        0.045567\n3     ADBE        0.050662\n6     AMZN        0.050903\n18     CAT        0.049646\n38      FB        0.048682\n47    GOOG        0.049515\n48   GOOGL        0.047447\n62    LULU        0.048507\n63    MASI        0.048364\n71     MPW        0.041568\n76    MSFT        0.045488\n80    NFLX        0.050619\n81     NIO        0.048747\n83    NVDA        0.050702\n92    PTON        0.042014\n99    SWBI        0.044733\n103   TSLA        0.049768\n109   VIRT        0.048620\n\n\n"
     ]
    }
   ],
   "source": [
    "#Define function to return update\n",
    "def returnportfolioupdate():\n",
    "    print(portfolioupdate)\n",
    "returnportfolioupdate()"
   ]
  }
 ],
 "metadata": {
  "kernelspec": {
   "name": "python3",
   "display_name": "Python 3.8.3 64-bit ('base': conda)",
   "metadata": {
    "interpreter": {
     "hash": "d54f36650e22a68b1e16ad067c04252fc93b1d0cce2a522804985f8fa0dd3c9b"
    }
   }
  },
  "language_info": {
   "codemirror_mode": {
    "name": "ipython",
    "version": 3
   },
   "file_extension": ".py",
   "mimetype": "text/x-python",
   "name": "python",
   "nbconvert_exporter": "python",
   "pygments_lexer": "ipython3",
   "version": "3.8.3-final"
  }
 },
 "nbformat": 4,
 "nbformat_minor": 4
}